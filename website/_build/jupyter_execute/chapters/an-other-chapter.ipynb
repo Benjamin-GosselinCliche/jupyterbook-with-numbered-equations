{
 "cells": [
  {
   "cell_type": "markdown",
   "id": "dbe55153",
   "metadata": {},
   "source": [
    "(an-other-chapter-label)=\n",
    "# An other chapter \n",
    "\n",
    "(a-section-label-3)=\n",
    "## A section with an equation\n",
    "\n",
    "This is an equation with a reference in the section {numref}`a-section-label` in the the chapter {numref}`a-chapter-label`.\n",
    "\n",
    "```{math}\n",
    ":label: eqf7xs9dd\n",
    "\\begin{aligned}\n",
    "\\begin{bmatrix}\n",
    "0 \\\\\n",
    "\\Delta x \n",
    "\\end{bmatrix}\n",
    "&=\n",
    "\\begin{bmatrix}\n",
    "\\gamma & \\gamma \\beta \\\\\n",
    "\\gamma \\beta & \\gamma\n",
    "\\end{bmatrix}\n",
    "\\begin{bmatrix}\n",
    "c \\Delta t' \\\\\n",
    "\\Delta x'\n",
    "\\end{bmatrix}\\\\\n",
    "&=\n",
    "\\begin{bmatrix}\n",
    "\\gamma c \\Delta t' +\\gamma \\beta \\Delta x' \\\\\n",
    "+\\gamma \\beta c \\Delta t' + \\gamma \\Delta x'\n",
    "\\end{bmatrix}\n",
    "\\end{aligned}\n",
    "```"
   ]
  }
 ],
 "metadata": {
  "jupytext": {
   "text_representation": {
    "extension": ".md",
    "format_name": "myst"
   }
  },
  "kernelspec": {
   "display_name": "Python 3",
   "language": "python",
   "name": "python3"
  },
  "language_info": {
   "codemirror_mode": {
    "name": "ipython",
    "version": 3
   },
   "file_extension": ".py",
   "mimetype": "text/x-python",
   "name": "python",
   "nbconvert_exporter": "python",
   "pygments_lexer": "ipython3",
   "version": "3.12.11"
  },
  "source_map": [
   10
  ]
 },
 "nbformat": 4,
 "nbformat_minor": 5
}