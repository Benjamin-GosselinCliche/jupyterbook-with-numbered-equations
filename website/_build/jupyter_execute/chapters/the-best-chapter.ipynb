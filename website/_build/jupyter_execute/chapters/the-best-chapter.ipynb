{
 "cells": [
  {
   "cell_type": "markdown",
   "id": "3536a02d",
   "metadata": {},
   "source": [
    "(the-best-chapter-label)=\n",
    "# The best chapter \n",
    "\n",
    "(a-section-label-2)=\n",
    "## A section with an equation\n",
    "\n",
    "This is an equation with a reference in the section {numref}`a-section-label` in the the chapter {numref}`a-chapter-label`.\n",
    "\n",
    "<!-- {ref}`a-subsection-label` -->\n",
    "\n",
    "```{math}\n",
    ":label: eqf7012739dd\n",
    "\\begin{equation}\n",
    "F_{n,\\ell}(r, r_0)=\\sqrt{\\left(\\frac{2}{n r_0}\\right)^3 \\frac{(n-\\ell-1)!}{2 n(n+\\ell)!}} \n",
    "\\end{equation}\n",
    "```"
   ]
  }
 ],
 "metadata": {
  "jupytext": {
   "text_representation": {
    "extension": ".md",
    "format_name": "myst"
   }
  },
  "kernelspec": {
   "display_name": "Python 3",
   "language": "python",
   "name": "python3"
  },
  "language_info": {
   "codemirror_mode": {
    "name": "ipython",
    "version": 3
   },
   "file_extension": ".py",
   "mimetype": "text/x-python",
   "name": "python",
   "nbconvert_exporter": "python",
   "pygments_lexer": "ipython3",
   "version": "3.12.11"
  },
  "source_map": [
   10
  ]
 },
 "nbformat": 4,
 "nbformat_minor": 5
}