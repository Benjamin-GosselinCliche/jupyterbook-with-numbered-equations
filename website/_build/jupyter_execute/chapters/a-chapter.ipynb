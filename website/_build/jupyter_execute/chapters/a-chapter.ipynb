{
 "cells": [
  {
   "cell_type": "markdown",
   "id": "1a3975f5",
   "metadata": {},
   "source": [
    "(a-chapter-label)=\n",
    "# A chapter \n",
    "\n",
    "(a-section-label)=\n",
    "## A section with equations\n",
    "\n",
    "This is an equation :\n",
    "\n",
    "```{math}\n",
    ":label: eq9f1ba793\n",
    "\\begin{equation}\n",
    "\\frac{i \\hbar}{2 \\pi} \\frac{\\partial \\psi(r, \\theta, \\phi, t)}{\\partial t} \n",
    "= -\\frac{\\hbar^2}{8 \\pi^2 m} \\nabla^2 \\psi(r, \\theta, \\phi, t) + V(r) \\psi(r, \\theta, \\phi, t)\n",
    "\\end{equation}\n",
    "```\n",
    "\n",
    "A solution of the equation {eq}`eq9f1ba793` is given by an other equation : \n",
    "\n",
    "```{math}\n",
    ":label: eqf703b9dd\n",
    "\\begin{equation}\n",
    "\\psi_{n, \\ell, m}(r, \\theta, \\phi)=F_{n,\\ell}(r, r_0) L_{n-\\ell-1}^{2 \\ell+1}\\left(\\frac{2 r}{n r_0}\\right)\\left(\\frac{2 r}{n r_0}\\right)^{\\ell} e^{-\\frac{r}{n r_0}} Y_{\\ell, m}(\\theta, \\phi)\n",
    "\\end{equation}\n",
    "```\n",
    "\n",
    "### A subsection with reference from an other chapter\n",
    "\n",
    "We got the equation {eq}`eqf7012739dd` in another section {numref}`a-section-label-2` in another chapter {numref}`the-best-chapter-label` or the {eq}`eqf7xs9dd` in another section {numref}`a-section-label-3` in another chapter {numref}`an-other-chapter-label`.\n",
    "\n",
    "### A subsection with a list\n",
    "\n",
    "For the equation {eq}`eqf703b9dd`, we have a list of equations:\n",
    "\n",
    "```{math}\n",
    ":label: eqf7o8c6vdd\n",
    "\\begin{equation}\n",
    "\\begin{aligned}\n",
    "& r_0 = \\frac{4 \\pi \\varepsilon_0 \\hbar^2}{\\mu e^2} \\\\\n",
    "& \\mu=\\frac{m_1 m_2}{m_1+m_2} \\\\\n",
    "& L_n^{(\\alpha)}(x)=\\frac{x^{-\\alpha} e^x}{n!} \\frac{d^n}{d x^n}\\left(e^{-x} x^{n+\\alpha}\\right) \\\\\n",
    "& Y_{l, m}(\\theta, \\varphi)=(-1)^{\\frac{1}{2}(m+|m|)} \\sqrt{\\frac{(2 l+1)}{4 \\pi} \\frac{(l-|m|)!}{(l+|m|)!}} P_{l,|m|}(\\cos \\theta) \\mathrm{e}^{i m \\varphi} \\\\\n",
    "& P_{l, m}(x)=\\frac{(-1)^m}{2^l l!}\\left[1-x^2\\right]^{m / 2} \\frac{\\mathrm{~d}^{l+m}}{\\mathrm{~d} x^{l+m}}\\left[x^2-1\\right]^l\n",
    "\\end{aligned}\n",
    "\\end{equation}\n",
    "```\n",
    "\n",
    "## An other section\n",
    "\n",
    "### A subsection with a long equation\n",
    "\n",
    "```{math}\n",
    ":label: eqf70td806\n",
    "\\begin{equation}\n",
    "\\psi_{n, \\ell, m}(r, \\theta, \\phi)=F_{n,\\ell}(r, r_0) L_{n-\\ell-1}^{2 \\ell+1}\\left(\\frac{2 r}{n r_0}\\right)\\left(\\frac{2 r}{n r_0}\\right)^{\\ell} e^{-\\frac{r}{n r_0}} (-1)^{\\frac{1}{2}(m+|m|)} \\sqrt{\\frac{(2 l+1)}{4 \\pi} \\frac{(l-|m|)!}{(l+|m|)!}} P_{l,|m|}(\\cos \\theta) \\mathrm{e}^{i m \\varphi}\n",
    "\\end{equation}\n",
    "```\n",
    "\n",
    "### A subsection with an image\n",
    "\n",
    "```{figure} /_static/img/logo.png\n",
    "---\n",
    "align: center\n",
    "width: 50%\n",
    "class: responsive-image\n",
    "name: img-label-1\n",
    "---\n",
    "This is an image.\n",
    "```"
   ]
  }
 ],
 "metadata": {
  "jupytext": {
   "text_representation": {
    "extension": ".md",
    "format_name": "myst"
   }
  },
  "kernelspec": {
   "display_name": "Python 3",
   "language": "python",
   "name": "python3"
  },
  "language_info": {
   "codemirror_mode": {
    "name": "ipython",
    "version": 3
   },
   "file_extension": ".py",
   "mimetype": "text/x-python",
   "name": "python",
   "nbconvert_exporter": "python",
   "pygments_lexer": "ipython3",
   "version": "3.12.11"
  },
  "source_map": [
   10
  ]
 },
 "nbformat": 4,
 "nbformat_minor": 5
}