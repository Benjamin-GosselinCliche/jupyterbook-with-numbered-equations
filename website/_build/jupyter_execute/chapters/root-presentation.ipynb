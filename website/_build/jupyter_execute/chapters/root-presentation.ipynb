{
 "cells": [
  {
   "cell_type": "markdown",
   "id": "8904e54f",
   "metadata": {},
   "source": [
    "# Presentation\n",
    "\n",
    "This static website demonstrates how to handle equation numbering for a static website built with jupyter-book.\n",
    "\n",
    "This is the table of contents with the examples:\n",
    "\n",
    "```{tableofcontents}\n",
    "```"
   ]
  }
 ],
 "metadata": {
  "jupytext": {
   "text_representation": {
    "extension": ".md",
    "format_name": "myst"
   }
  },
  "kernelspec": {
   "display_name": "Python 3",
   "language": "python",
   "name": "python3"
  },
  "language_info": {
   "codemirror_mode": {
    "name": "ipython",
    "version": 3
   },
   "file_extension": ".py",
   "mimetype": "text/x-python",
   "name": "python",
   "nbconvert_exporter": "python",
   "pygments_lexer": "ipython3",
   "version": "3.12.11"
  },
  "source_map": [
   10
  ]
 },
 "nbformat": 4,
 "nbformat_minor": 5
}